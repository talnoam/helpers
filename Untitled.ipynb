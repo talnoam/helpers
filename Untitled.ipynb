{
 "cells": [
  {
   "cell_type": "code",
   "execution_count": 3,
   "metadata": {},
   "outputs": [],
   "source": [
    "f = open('model_gnn_auxEloss_loss.txt')\n",
    "lines = f.readlines()\n",
    "f.close()\n",
    "\n",
    "\n",
    "train_loss = []\n",
    "valid_loss = []\n",
    "\n",
    "batch=0\n",
    "for l in lines:\n",
    "    lsplit = l.split()\n",
    "    batch+=1\n",
    "    \n",
    "    if len(lsplit) > 1:\n",
    "        valid_loss.append( (batch,float(lsplit[1])) )\n",
    "    train_loss.append( (batch,float(lsplit[0])) )\n",
    "    "
   ]
  },
  {
   "cell_type": "code",
   "execution_count": 6,
   "metadata": {},
   "outputs": [],
   "source": [
    "import matplotlib.pyplot as plt\n",
    "import numpy as np"
   ]
  },
  {
   "cell_type": "code",
   "execution_count": 7,
   "metadata": {},
   "outputs": [
    {
     "data": {
      "text/plain": [
       "[<matplotlib.lines.Line2D at 0x120e09860>]"
      ]
     },
     "execution_count": 7,
     "metadata": {},
     "output_type": "execute_result"
    },
    {
     "data": {
      "image/png": "[encoded data removed]",
      "text/plain": [
       "<Figure size 432x288 with 1 Axes>"
      ]
     },
     "metadata": {
      "needs_background": "light"
     },
     "output_type": "display_data"
    }
   ],
   "source": [
    "train_loss = np.array(train_loss)\n",
    "valid_loss = np.array(valid_loss)\n",
    "\n",
    "plt.plot(train_loss[:,0],train_loss[:,1])\n",
    "plt.plot(valid_loss[:,0],valid_loss[:,1])"
   ]
  },
  {
   "cell_type": "code",
   "execution_count": null,
   "metadata": {},
   "outputs": [],
   "source": []
  }
 ],
 "metadata": {
  "kernelspec": {
   "display_name": "Python 3",
   "language": "python",
   "name": "python3"
  },
  "language_info": {
   "codemirror_mode": {
    "name": "ipython",
    "version": 3
   },
   "file_extension": ".py",
   "mimetype": "text/x-python",
   "name": "python",
   "nbconvert_exporter": "python",
   "pygments_lexer": "ipython3",
   "version": "3.7.3"
  }
 },
 "nbformat": 4,
 "nbformat_minor": 2
}
